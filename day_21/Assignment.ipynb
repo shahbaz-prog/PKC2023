{
 "cells": [
  {
   "attachments": {},
   "cell_type": "markdown",
   "metadata": {},
   "source": [
    "Subject of notebook : Comment each step of best_model set_matplotlib_close\\\n",
    "Name of the auther : Qadir Shahbaz\\\n",
    "Where to contact : qadir_shahbaz@yahoo.co.uk\\\n",
    "date : 22/01/2023 "
   ]
  },
  {
   "attachments": {},
   "cell_type": "markdown",
   "metadata": {},
   "source": [
    "## Import libraries"
   ]
  },
  {
   "cell_type": "code",
   "execution_count": 1,
   "metadata": {},
   "outputs": [],
   "source": [
    "import pandas as pd\n",
    "import numpy as np\n",
    "import seaborn as sns\n",
    "import matplotlib.pyplot as plt"
   ]
  },
  {
   "attachments": {},
   "cell_type": "markdown",
   "metadata": {},
   "source": [
    "### Load dataset\n",
    "### Assign X and y\n",
    "### used get_dummies to convert data type. This is called label encoding\n",
    "### deal with missing values"
   ]
  },
  {
   "cell_type": "code",
   "execution_count": 2,
   "metadata": {},
   "outputs": [],
   "source": [
    "df = sns.load_dataset('titanic')\n",
    "X = df[[\"pclass\", \"sex\", \"age\", \"sibsp\", \"parch\", \"fare\"]]\n",
    "y = df[\"survived\"]\n",
    "X = pd.get_dummies(X, columns=[\"sex\"])\n",
    "X.age.fillna(value= X[\"age\"].mean(), inplace = True)\n"
   ]
  },
  {
   "cell_type": "code",
   "execution_count": 3,
   "metadata": {},
   "outputs": [
    {
     "name": "stdout",
     "output_type": "stream",
     "text": [
      "<class 'pandas.core.frame.DataFrame'>\n",
      "RangeIndex: 891 entries, 0 to 890\n",
      "Data columns (total 7 columns):\n",
      " #   Column      Non-Null Count  Dtype  \n",
      "---  ------      --------------  -----  \n",
      " 0   pclass      891 non-null    int64  \n",
      " 1   age         891 non-null    float64\n",
      " 2   sibsp       891 non-null    int64  \n",
      " 3   parch       891 non-null    int64  \n",
      " 4   fare        891 non-null    float64\n",
      " 5   sex_female  891 non-null    uint8  \n",
      " 6   sex_male    891 non-null    uint8  \n",
      "dtypes: float64(2), int64(3), uint8(2)\n",
      "memory usage: 36.7 KB\n"
     ]
    }
   ],
   "source": [
    "X.info()"
   ]
  },
  {
   "attachments": {},
   "cell_type": "markdown",
   "metadata": {},
   "source": [
    "## from sklearn import supervised machine learning algorithm\n",
    "## from sklearn import evaluation methods for classification"
   ]
  },
  {
   "cell_type": "code",
   "execution_count": 4,
   "metadata": {},
   "outputs": [],
   "source": [
    "from sklearn.linear_model import LogisticRegression\n",
    "from sklearn.svm import SVC\n",
    "from sklearn.tree import DecisionTreeClassifier\n",
    "from sklearn.ensemble import RandomForestClassifier\n",
    "from sklearn.neighbors import KNeighborsClassifier\n",
    "from sklearn.metrics import accuracy_score, f1_score, precision_score, recall_score\n",
    "\n"
   ]
  },
  {
   "attachments": {},
   "cell_type": "markdown",
   "metadata": {},
   "source": [
    "## We spit the data to check on the basis of metrics"
   ]
  },
  {
   "cell_type": "code",
   "execution_count": 5,
   "metadata": {},
   "outputs": [],
   "source": [
    "from sklearn.model_selection import train_test_split\n",
    "X_train, X_test, y_train, y_test = train_test_split(X, y, test_size=0.2, random_state=42)"
   ]
  },
  {
   "attachments": {},
   "cell_type": "markdown",
   "metadata": {},
   "source": [
    "## We have assign  variable **models** to all the classification algorithm.\n",
    "## We have assign  variable **models_names** to all the model names"
   ]
  },
  {
   "cell_type": "code",
   "execution_count": 6,
   "metadata": {},
   "outputs": [],
   "source": [
    "models = [LogisticRegression(), SVC(), DecisionTreeClassifier(), RandomForestClassifier(), KNeighborsClassifier()]\n",
    "model_names = ['Logistic Regression', 'SVM', 'Decision Tree', 'Random Forest', 'KNN']"
   ]
  },
  {
   "attachments": {},
   "cell_type": "markdown",
   "metadata": {},
   "source": [
    "### first we have made an empty list and assign variable models_scores to it\n",
    "### Secondly we used for loop to iterate the variables models and model names. This code will find y_pred and accuracy and will append the values in varaible models_scores for each model."
   ]
  },
  {
   "cell_type": "code",
   "execution_count": 7,
   "metadata": {},
   "outputs": [],
   "source": [
    "models_scores = []\n",
    "for model, model_name in zip(models, model_names):\n",
    "    model.fit(X_train, y_train)\n",
    "    y_pred = model.predict(X_test)\n",
    "    accuracy = accuracy_score(y_test, y_pred)\n",
    "    models_scores.append([model_name,accuracy])"
   ]
  },
  {
   "attachments": {},
   "cell_type": "markdown",
   "metadata": {},
   "source": [
    "## The below code will sort the result in descending order"
   ]
  },
  {
   "cell_type": "code",
   "execution_count": 8,
   "metadata": {},
   "outputs": [
    {
     "name": "stdout",
     "output_type": "stream",
     "text": [
      "Accuracy Score:  Logistic Regression : 0.81\n",
      "Accuracy Score:  Random Forest : 0.79\n",
      "Accuracy Score:  Decision Tree : 0.75\n",
      "Accuracy Score:  KNN : 0.69\n",
      "Accuracy Score:  SVM : 0.66\n"
     ]
    }
   ],
   "source": [
    "sorted_models = sorted(models_scores, key=lambda x: x[1], reverse=True)\n",
    "for model in sorted_models:\n",
    "    print(\"Accuracy Score: \",f'{model[0]} : {model[1]:.2f}')"
   ]
  },
  {
   "attachments": {},
   "cell_type": "markdown",
   "metadata": {},
   "source": [
    "## This code will find y_pred and precision and will append the values in varaible models_scores for each model."
   ]
  },
  {
   "cell_type": "code",
   "execution_count": 9,
   "metadata": {},
   "outputs": [
    {
     "name": "stdout",
     "output_type": "stream",
     "text": [
      "Precision Score:  Random Forest : 0.81\n",
      "Precision Score:  Logistic Regression : 0.80\n",
      "Precision Score:  SVM : 0.76\n",
      "Precision Score:  Decision Tree : 0.73\n",
      "Precision Score:  KNN : 0.66\n"
     ]
    }
   ],
   "source": [
    "models = [LogisticRegression(), SVC(), DecisionTreeClassifier(), RandomForestClassifier(), KNeighborsClassifier()]\n",
    "model_names = ['Logistic Regression', 'SVM', 'Decision Tree', 'Random Forest', 'KNN']\n",
    "models_scores = []\n",
    "for model, model_name in zip(models, model_names):\n",
    "    model.fit(X_train, y_train)\n",
    "    y_pred = model.predict(X_test)\n",
    "    Precision = precision_score(y_test, y_pred)\n",
    "    models_scores.append([model_name,Precision])\n",
    "\n",
    "sorted_models = sorted(models_scores, key=lambda x: x[1], reverse=True)\n",
    "for model in sorted_models:\n",
    "    print(\"Precision Score: \", f'{model[0]} : {model[1]:.2f}')"
   ]
  },
  {
   "attachments": {},
   "cell_type": "markdown",
   "metadata": {},
   "source": [
    "## This code will find y_pred and recall and will append the values in varaible models_scores for each model.\n"
   ]
  },
  {
   "cell_type": "code",
   "execution_count": 37,
   "metadata": {},
   "outputs": [
    {
     "name": "stdout",
     "output_type": "stream",
     "text": [
      "Precision Score:  Logistic Regression : 0.72\n",
      "Precision Score:  Random Forest : 0.72\n",
      "Precision Score:  Decision Tree : 0.70\n",
      "Precision Score:  SVM : 0.26\n",
      "[]\n",
      "[]\n"
     ]
    }
   ],
   "source": [
    "from sklearn.model_selection import GridSearchCV\n",
    "\n",
    "\n",
    "models = [LogisticRegression(), SVC(), DecisionTreeClassifier(), RandomForestClassifier()]\n",
    "model_names = ['Logistic Regression', 'SVM', 'Decision Tree', 'Random Forest', 'KNN']\n",
    "models_scores = []\n",
    "Best_parameter = []\n",
    "Best_score = []\n",
    "\n",
    "for model, model_name in zip(models, model_names):\n",
    "    model.fit(X_train, y_train)\n",
    "    y_pred = model.predict(X_test)\n",
    "    Recall = recall_score(y_test, y_pred)\n",
    "    models_scores.append([model_name,Recall])\n",
    "    \n",
    "for param in zip(model,model_names):\n",
    "    if param == LogisticRegression:\n",
    "        param_grid = {'fit_intercept': [True, False]}\n",
    "        grid_search = GridSearchCV(model, param_grid, cv=5, scoring = \"r2\")\n",
    "        grid_search.fit(X,y)\n",
    "        Best_parameter.append([grid_search.best_params_])\n",
    "        Best_score.append([grid_search.best_score_])\n",
    "        \n",
    "    if param == SVC:\n",
    "        param_grid = {'kernel': ['linear', 'poly', 'rbf', 'sigmoid']}\n",
    "        grid_search = GridSearchCV(model, param_grid, cv=5, scoring = \"r2\")\n",
    "        grid_search.fit(X,y)\n",
    "        Best_parameter.append([grid_search.best_params_])\n",
    "        Best_score.append([grid_search.best_score_])\n",
    "        \n",
    "    if param == DecisionTreeClassifier:\n",
    "        param_grid = {'criterion': ['gini', 'entropy']}\n",
    "        grid_search = GridSearchCV(model, param_grid, cv=5, scoring = \"r2\")\n",
    "        grid_search.fit(X,y)\n",
    "        Best_parameter.append([grid_search.best_params_])\n",
    "        Best_score.append([grid_search.best_score_])\n",
    "        \n",
    "    if param == RandomForestClassifier:\n",
    "        param_grid = {'n_estimators': [50, 100, 150, 200, 250]}\n",
    "        grid_search = GridSearchCV(model, param_grid, cv=5, scoring = \"r2\")\n",
    "        grid_search.fit(X,y)\n",
    "        Best_parameter.append([grid_search.best_params_])\n",
    "        Best_score.append([grid_search.best_score_])\n",
    "    # if param == KNeighborsClassifier:\n",
    "    #     param_grid = {'n_neighbors': [3, 5, 7, 9, 11, 13, 15, 17, 19, 21]}\n",
    "    #     grid_search = GridSearchCV(model, param_grid, cv=5, scoring = \"precision\")\n",
    "    #     grid_search.fit(X,y)\n",
    "    #     print(\"Best Parameters: \", grid_search.best_params_)     \n",
    "sorted_models = sorted(models_scores, key=lambda x: x[1], reverse=True)\n",
    "for model in sorted_models:\n",
    "    print(\"Precision Score: \", f'{model[0]} : {model[1]:.2f}')\n",
    "\n",
    "\n",
    "sorted_Best_parameter = sorted(Best_parameter, key=lambda x: x[1], reverse=True)\n",
    "for x in sorted_Best_parameter :\n",
    "    print(\"Best_parameter: \",f'{model[0]} : {model[1]:.2f}')\n",
    "    \n",
    "print(Best_score)\n",
    "print(Best_score) \n"
   ]
  },
  {
   "cell_type": "markdown",
   "metadata": {},
   "source": [
    "## This code will find y_pred and F1 and will append the values in varaible models_scores for each model."
   ]
  },
  {
   "cell_type": "code",
   "execution_count": 12,
   "metadata": {},
   "outputs": [
    {
     "name": "stdout",
     "output_type": "stream",
     "text": [
      "F1 Score:  Logistic Regression : 0.76\n",
      "F1 Score:  Random Forest : 0.75\n",
      "F1 Score:  Decision Tree : 0.72\n",
      "F1 Score:  KNN : 0.59\n",
      "F1 Score:  SVM : 0.38\n"
     ]
    }
   ],
   "source": [
    "models = [LogisticRegression(), SVC(), DecisionTreeClassifier(), RandomForestClassifier(), KNeighborsClassifier()]\n",
    "model_names = ['Logistic Regression', 'SVM', 'Decision Tree', 'Random Forest', 'KNN']\n",
    "models_scores = []\n",
    "for model, model_name in zip(models, model_names):\n",
    "    model.fit(X_train, y_train)\n",
    "    y_pred = model.predict(X_test)\n",
    "    F1 = f1_score(y_test, y_pred)\n",
    "    models_scores.append([model_name,F1])\n",
    "\n",
    "sorted_models = sorted(models_scores, key=lambda x: x[1], reverse=True)\n",
    "for model in sorted_models:\n",
    "    print(\"F1 Score: \",f'{model[0]} : {model[1]:.2f}')"
   ]
  }
 ],
 "metadata": {
  "kernelspec": {
   "display_name": "Python 3",
   "language": "python",
   "name": "python3"
  },
  "language_info": {
   "codemirror_mode": {
    "name": "ipython",
    "version": 3
   },
   "file_extension": ".py",
   "mimetype": "text/x-python",
   "name": "python",
   "nbconvert_exporter": "python",
   "pygments_lexer": "ipython3",
   "version": "3.10.6"
  },
  "orig_nbformat": 4,
  "vscode": {
   "interpreter": {
    "hash": "f71bcea4a1c913fc9423eaa3e90efbb74abe52176e897df48de2500d80688004"
   }
  }
 },
 "nbformat": 4,
 "nbformat_minor": 2
}
