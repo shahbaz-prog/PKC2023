{
 "cells": [
  {
   "attachments": {},
   "cell_type": "markdown",
   "metadata": {},
   "source": [
    "Subject of notebook : What are the techniques to normaliza the data including removing the outliners?\\\n",
    "Name of the auther : Qadir Shahbaz\\\n",
    "Where to contact : qadir_shahbaz@yahoo.co.uk\\\n",
    "date : 13/01/2023 "
   ]
  },
  {
   "attachments": {},
   "cell_type": "markdown",
   "metadata": {},
   "source": [
    "- Min-Max Normalization: This technique scales the data between a range of 0 to 1. It is useful for data that has outliers or extreme values.\n",
    "\n",
    "- Z-Score Normalization: This technique standardizes the data by calculating the mean and standard deviation of the data. It helps in removing the skewness of the data and makes it more symmetric.\n",
    "\n",
    "- Log Transformation: This technique is useful for data that has a skewed distribution. It helps in reducing the impact of outliers and makes the data more symmetric.\n",
    "\n",
    "- Box-Cox Transformation: This technique is used to transform non-normal data into a normal distribution. It helps in removing skewness and kurtosis from the data.\n",
    "\n",
    "- Binning: This technique is used to group data into discrete intervals. It helps in reducing the impact of outliers and making the data more symmetric.\n",
    "\n",
    "- Outlier Detection and Removal: This technique involves identifying and removing outliers from the data. This helps in reducing the impact of outliers and making the data more symmetric.\n",
    "\n",
    "- Data Imputation: This technique involves replacing missing or null values with a suitable value. This helps in reducing the impact of missing data and making the data more symmetric."
   ]
  }
 ],
 "metadata": {
  "kernelspec": {
   "display_name": "Python 3",
   "language": "python",
   "name": "python3"
  },
  "language_info": {
   "name": "python",
   "version": "3.10.6 (tags/v3.10.6:9c7b4bd, Aug  1 2022, 21:53:49) [MSC v.1932 64 bit (AMD64)]"
  },
  "orig_nbformat": 4,
  "vscode": {
   "interpreter": {
    "hash": "f71bcea4a1c913fc9423eaa3e90efbb74abe52176e897df48de2500d80688004"
   }
  }
 },
 "nbformat": 4,
 "nbformat_minor": 2
}
