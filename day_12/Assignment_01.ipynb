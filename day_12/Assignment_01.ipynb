{
 "cells": [
  {
   "attachments": {},
   "cell_type": "markdown",
   "metadata": {},
   "source": [
    "Subject of notebook : How to deal with missing values?\\\n",
    "Name of the auther : Qadir Shahbaz\\\n",
    "Where to contact : qadir_shahbaz@yahoo.co.uk\\\n",
    "date : 13/01/2023 "
   ]
  },
  {
   "attachments": {},
   "cell_type": "markdown",
   "metadata": {},
   "source": [
    "# There are several ways to deal with missing values in EDA analysis in Python. Here are a few examples:\n",
    "\n",
    "- Dropping missing values: This method involves removing the rows or columns that contain missing values. This can be done using the dropna() function in pandas. For example, to drop all rows that contain at least one missing value\n",
    "- Filling missing values with a constant value: This method involves replacing the missing values with a constant value, such as 0 or -1. This can be done using the fillna() function in pandas. For example, to replace all missing values with 0\n",
    "- Filling missing values with the mean or median: This method involves replacing the missing values with the mean or median of the column. This can be done using the fillna() function in pandas. For example, to replace all missing values with the mean of the column\n",
    "- Interpolation: This method involves estimating the missing values based on the values of the other observations in the dataset. This can be done using the interpolate() function in pandas. For example, to use linear interpolation to estimate the missing values\n",
    "- Using machine learning algorithms: This method involves using machine learning algorithms to predict the missing values based on the other observations in the dataset. This can be done using the sklearn library in Python. For example, to use linear regression to predict the missing values\n",
    "It's important to note that the best method for dealing with missing values will depend on the specific dataset and the goals of the analysis. It's important to consider the percentage of missing values, the distribution of the missing values, and the impact of the missing values on the final analysis."
   ]
  }
 ],
 "metadata": {
  "kernelspec": {
   "display_name": "Python 3",
   "language": "python",
   "name": "python3"
  },
  "language_info": {
   "codemirror_mode": {
    "name": "ipython",
    "version": 3
   },
   "file_extension": ".py",
   "mimetype": "text/x-python",
   "name": "python",
   "nbconvert_exporter": "python",
   "pygments_lexer": "ipython3",
   "version": "3.10.6 (tags/v3.10.6:9c7b4bd, Aug  1 2022, 21:53:49) [MSC v.1932 64 bit (AMD64)]"
  },
  "orig_nbformat": 4,
  "vscode": {
   "interpreter": {
    "hash": "f71bcea4a1c913fc9423eaa3e90efbb74abe52176e897df48de2500d80688004"
   }
  }
 },
 "nbformat": 4,
 "nbformat_minor": 2
}
