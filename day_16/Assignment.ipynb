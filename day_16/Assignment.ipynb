{
 "cells": [
  {
   "attachments": {},
   "cell_type": "markdown",
   "metadata": {},
   "source": [
    "# Assignment 01"
   ]
  },
  {
   "attachments": {},
   "cell_type": "markdown",
   "metadata": {},
   "source": [
    "Subject of notebook : Deep learning vs machine learning vs Artificial intellgence\\\n",
    "Name of the auther : Qadir Shahbaz\\\n",
    "Where to contact : qadir_shahbaz@yahoo.co.uk\\\n",
    "date : 16/01/2023 \n",
    "\n",
    "AI is the broadest field, and deep learning is a subset of machine learning, which is a subset of AI."
   ]
  },
  {
   "attachments": {},
   "cell_type": "markdown",
   "metadata": {},
   "source": [
    "# Assignment 2"
   ]
  },
  {
   "attachments": {},
   "cell_type": "markdown",
   "metadata": {},
   "source": [
    "Subject of notebook : Why boston dataset has been removed from scikit-learn since version 1.2\\\n",
    "Name of the auther : Qadir Shahbaz\\\n",
    "Where to contact : qadir_shahbaz@yahoo.co.uk\\\n",
    "date : 16/01/2023 \n",
    "\n",
    "The Boston housing prices dataset has an ethical problem. You have mention about it in your lecture as well.There is racial discrimation within the dataset. Please see below.\n",
    "\n",
    "\"an increase in B should have a negative influence on housing value if Blacks are regarded as undesirable neighbors by Whites.”"
   ]
  },
  {
   "attachments": {},
   "cell_type": "markdown",
   "metadata": {},
   "source": [
    "# Assignment 03"
   ]
  },
  {
   "attachments": {},
   "cell_type": "markdown",
   "metadata": {},
   "source": [
    "Subject of notebook : What are the dataset in the sciket-learn library\\\n",
    "Name of the auther : Qadir Shahbaz\\\n",
    "Where to contact : qadir_shahbaz@yahoo.co.uk\\\n",
    "date : 16/01/2023 \n",
    "\n",
    "List of dataset in the sciket-learn library are below:\n",
    "\n",
    "1. breast_cancer\n",
    "2. diabetes\n",
    "3. digits\n",
    "4. files\n",
    "5. iris\n",
    "6. linnerud\n",
    "7. sample_image\n",
    "8. sample_images\n",
    "9. wine\n"
   ]
  },
  {
   "attachments": {},
   "cell_type": "markdown",
   "metadata": {},
   "source": [
    "# Assignment 04"
   ]
  },
  {
   "attachments": {},
   "cell_type": "markdown",
   "metadata": {},
   "source": [
    "Subject of notebook : what other words can be used for input and output in machine learning?\\\n",
    "Name of the auther : Qadir Shahbaz\\\n",
    "Where to contact : qadir_shahbaz@yahoo.co.uk\\\n",
    "date : 16/01/2023 \n",
    "\n",
    "**Input**\n",
    "1. Features\n",
    "2. Predictors\n",
    "3. Independent variables\n",
    "4. Data\n",
    "   \n",
    "**Output**\n",
    "1. Prediction\n",
    "2. classification\n",
    "3. Target\n",
    "4. Label\n",
    "5. Response\n",
    "6. Estimation"
   ]
  }
 ],
 "metadata": {
  "kernelspec": {
   "display_name": "Python 3",
   "language": "python",
   "name": "python3"
  },
  "language_info": {
   "name": "python",
   "version": "3.10.6 (tags/v3.10.6:9c7b4bd, Aug  1 2022, 21:53:49) [MSC v.1932 64 bit (AMD64)]"
  },
  "orig_nbformat": 4,
  "vscode": {
   "interpreter": {
    "hash": "f71bcea4a1c913fc9423eaa3e90efbb74abe52176e897df48de2500d80688004"
   }
  }
 },
 "nbformat": 4,
 "nbformat_minor": 2
}
