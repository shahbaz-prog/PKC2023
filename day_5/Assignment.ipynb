{
 "cells": [
  {
   "attachments": {},
   "cell_type": "markdown",
   "metadata": {},
   "source": [
    "**Subject of this notebook** : How to convert Jupyter notebook to PDF\\\n",
    "**Name of the Auther** : Qadir Shahbaz\\\n",
    "**Where to contact** : qadir_shahbaz@yahoo.co.uk\\\n",
    "**Date** : 10/01/2023\n"
   ]
  },
  {
   "attachments": {},
   "cell_type": "markdown",
   "metadata": {},
   "source": [
    "**To export ipynb file to pdf**\n",
    "1- Save the file in the visual code.\\\n",
    "2- Run the Jupyter notebook from anaconda.\\\n",
    "3- On the top right we have upload option.\\\n",
    "4- Upload the file.\\\n",
    "5- Scroll down to find the saved file to open it.\\\n",
    "6- Go to file and select print preview to export file to pdf.\n",
    "\n"
   ]
  }
 ],
 "metadata": {
  "kernelspec": {
   "display_name": "Python 3",
   "language": "python",
   "name": "python3"
  },
  "language_info": {
   "name": "python",
   "version": "3.10.6 (tags/v3.10.6:9c7b4bd, Aug  1 2022, 21:53:49) [MSC v.1932 64 bit (AMD64)]"
  },
  "orig_nbformat": 4,
  "vscode": {
   "interpreter": {
    "hash": "f71bcea4a1c913fc9423eaa3e90efbb74abe52176e897df48de2500d80688004"
   }
  }
 },
 "nbformat": 4,
 "nbformat_minor": 2
}
