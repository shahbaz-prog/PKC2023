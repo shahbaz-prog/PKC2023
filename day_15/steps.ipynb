{
 "cells": [
  {
   "attachments": {},
   "cell_type": "markdown",
   "metadata": {},
   "source": [
    "1. Gathering the data\n",
    "2. Accessing the data(EDA)\n",
    "3. Cleaning the data.\\\n",
    "    1..Dealing with missing values.\\\n",
    "    2.Correcting error in the data.\n",
    "        1. outliers removals\n",
    "            1. Visualization\n",
    "            2. IQR method\n",
    "            3. Z-score\n",
    "   3. Dropping duplicates\n",
    "4. Transforming the data\n",
    "   1. Normalize the data\n",
    "     1. Min-Maz normalization/scalling\n",
    "     2. Standard scaler\n",
    "     3. Log transformation\n",
    "     4.  Winsorization\n",
    "     5. z-score normalization\n",
    "     6. Decimal Scalling\n",
    "5. Organisation\n",
    "   1. column creation\n",
    "   2. rename with sensible name\n",
    "6. feature engineering\n",
    "7. saving your dataset"
   ]
  }
 ],
 "metadata": {
  "kernelspec": {
   "display_name": "Python 3",
   "language": "python",
   "name": "python3"
  },
  "language_info": {
   "name": "python",
   "version": "3.10.6 (tags/v3.10.6:9c7b4bd, Aug  1 2022, 21:53:49) [MSC v.1932 64 bit (AMD64)]"
  },
  "orig_nbformat": 4,
  "vscode": {
   "interpreter": {
    "hash": "f71bcea4a1c913fc9423eaa3e90efbb74abe52176e897df48de2500d80688004"
   }
  }
 },
 "nbformat": 4,
 "nbformat_minor": 2
}
