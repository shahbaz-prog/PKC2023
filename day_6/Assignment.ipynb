{
 "cells": [
  {
   "attachments": {},
   "cell_type": "markdown",
   "metadata": {},
   "source": [
    "# Day 6 Assignment 01\n",
    "**Subject of this notebook** : Write the path if you want to load file from day_1 to day_6.\\\n",
    "**Name of the Auther** : Qadir Shahbaz\\\n",
    "**Where to contact** : qadir_shahbaz@yahoo.co.uk\n"
   ]
  },
  {
   "cell_type": "code",
   "execution_count": null,
   "metadata": {},
   "outputs": [],
   "source": [
    "# for example we want to load excel file Kashti which is in\n",
    "#the day_6 to day_1\n",
    "\n",
    "kashti.to_excel(../day1/\"kashti.xlsm\") \n"
   ]
  },
  {
   "attachments": {},
   "cell_type": "markdown",
   "metadata": {},
   "source": [
    "# Day 6 Assignment 02\n",
    "**Subject of this notebook** : what is the differnce between df.info() and df.ifo\n",
    "**Name of the Auther** : Qadir Shahbaz\\\n",
    "**Where to contact** : qadir_shahbaz@yahoo.co.uk"
   ]
  },
  {
   "attachments": {},
   "cell_type": "markdown",
   "metadata": {},
   "source": [
    "**info** is the built-in pandas library function of a class dataframe which contains information about the number of columns, column labels, column data types, memory usage, range index, and the number of cells in each column (non-null values) any dataset may have. \n",
    "\n",
    "**df.info()** when we want to call the function we have to use () with the funtion\n",
    "\n",
    "**df.info** When we use a function without () this mean that we are not calling the info function.\n",
    "To call the info funtion we have to used ().\n",
    "\n",
    "I hope I have explained myself and answered the question.\n",
    "\n"
   ]
  }
 ],
 "metadata": {
  "kernelspec": {
   "display_name": "Python 3",
   "language": "python",
   "name": "python3"
  },
  "language_info": {
   "name": "python",
   "version": "3.10.6 (tags/v3.10.6:9c7b4bd, Aug  1 2022, 21:53:49) [MSC v.1932 64 bit (AMD64)]"
  },
  "orig_nbformat": 4,
  "vscode": {
   "interpreter": {
    "hash": "f71bcea4a1c913fc9423eaa3e90efbb74abe52176e897df48de2500d80688004"
   }
  }
 },
 "nbformat": 4,
 "nbformat_minor": 2
}
