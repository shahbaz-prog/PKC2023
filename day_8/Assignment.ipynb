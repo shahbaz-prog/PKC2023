{
 "cells": [
  {
   "cell_type": "markdown",
   "metadata": {},
   "source": [
    "Subject of notebook : Why we cannot use np.random.rand(4,81)\\\n",
    "Name of the auther : Qadir Shahbaz\\\n",
    "Where to contact : qadir_shahbaz@yahoo.co.uk\\\n",
    "date : 10/01/2023"
   ]
  },
  {
   "cell_type": "markdown",
   "metadata": {},
   "source": []
  }
 ],
 "metadata": {
  "kernelspec": {
   "display_name": "Python 3",
   "language": "python",
   "name": "python3"
  },
  "language_info": {
   "name": "python",
   "version": "3.10.6 (tags/v3.10.6:9c7b4bd, Aug  1 2022, 21:53:49) [MSC v.1932 64 bit (AMD64)]"
  },
  "orig_nbformat": 4,
  "vscode": {
   "interpreter": {
    "hash": "f71bcea4a1c913fc9423eaa3e90efbb74abe52176e897df48de2500d80688004"
   }
  }
 },
 "nbformat": 4,
 "nbformat_minor": 2
}
