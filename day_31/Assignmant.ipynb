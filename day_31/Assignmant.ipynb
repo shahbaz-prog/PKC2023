{
 "cells": [
  {
   "attachments": {},
   "cell_type": "markdown",
   "metadata": {},
   "source": [
    "Subject of notebook : Why do we use assert command\\\n",
    "Name of the auther : Qadir Shahbaz\\\n",
    "Where to contact : qadir_shahbaz@yahoo.co.uk\\\n",
    "date : 01/02/2023"
   ]
  },
  {
   "cell_type": "markdown",
   "metadata": {},
   "source": [
    "The assert command is used in machine learning to check for conditions that should always be true during the execution of the code. If the condition specified in the assert statement is not met, an AssertionError is raised, which stops the execution of the code and alerts the user that there is an issue that needs to be fixed.\n",
    "\n",
    "In machine learning, assert statements are often used to verify the shape and type of data structures, as well as to check that certain parameters have acceptable values. This helps to catch bugs early on in the development process and prevent them from causing more serious problems later on."
   ]
  },
  {
   "cell_type": "markdown",
   "metadata": {},
   "source": [
    "Subject of notebook : explain what for loop is doing in below code?\\\n",
    "Name of the auther : Qadir Shahbaz\\\n",
    "Where to contact : qadir_shahbaz@yahoo.co.uk\\\n",
    "date : 01/02/2023"
   ]
  },
  {
   "cell_type": "code",
   "execution_count": null,
   "metadata": {},
   "outputs": [],
   "source": [
    "#plot first few images\n",
    "import matplotlib.pyplot as plt\n",
    "\n",
    "for i in range(9):\n",
    "    #define subplot\n",
    "    plt.subplot(330+1+i)\n",
    "    #plot raw pixel data\n",
    "    plt.imshow(X_train[i],cmap=plt.get_cmap('gray'))\n",
    "# show the figure\n",
    "plt.show  "
   ]
  },
  {
   "attachments": {},
   "cell_type": "markdown",
   "metadata": {},
   "source": [
    "The above code plot the first 9 images from a training dataset stored in the variable X_train because we have specified range 9 in the for loop. For each image, a subplot is created using plt.subplot().The (330 + 1 + i) in the plt.subplot() function specifies the subplot layout in a grid-like structure. The first three digits 330 indicate that there should be 3 rows and 3 columns of subplots in the figure, with the first digit representing the number of rows, the second digit representing the number of columns, and the third digit representing the position of the subplot within the grid.\n",
    "\n",
    "The 1 + i portion increments the subplot position so that each iteration of the loop plots a new image in the next subplot of the grid. For example, on the first iteration i=0, the subplot position is 330 + 1 + 0 = 331, on the second iteration i=1, the subplot position is 330 + 1 + 1 = 332, and so on. This continues until 9 subplots are created.\n",
    " \n",
    "The image is plotted using plt.imshow(). The image data is plotted using a grayscale color map specified using cmap=plt.get_cmap('gray'). Finally, the figure is displayed using plt.show().\n",
    "\n",
    "\n",
    "\n",
    "\n",
    "\n"
   ]
  },
  {
   "attachments": {},
   "cell_type": "markdown",
   "metadata": {},
   "source": [
    "Subject of notebook : What is the difference between training loss and validation loss?\\\n",
    "Name of the auther : Qadir Shahbaz\\\n",
    "Where to contact : qadir_shahbaz@yahoo.co.uk\\\n",
    "date : 01/02/2023"
   ]
  },
  {
   "attachments": {},
   "cell_type": "markdown",
   "metadata": {},
   "source": [
    "A simple way to understand the difference is to think of the training loss as a measure of how well the model is fitting the training data, and the validation loss as a measure of how well the model is generalizing to new data."
   ]
  }
 ],
 "metadata": {
  "kernelspec": {
   "display_name": "Python 3",
   "language": "python",
   "name": "python3"
  },
  "language_info": {
   "name": "python",
   "version": "3.10.6 (tags/v3.10.6:9c7b4bd, Aug  1 2022, 21:53:49) [MSC v.1932 64 bit (AMD64)]"
  },
  "orig_nbformat": 4,
  "vscode": {
   "interpreter": {
    "hash": "f71bcea4a1c913fc9423eaa3e90efbb74abe52176e897df48de2500d80688004"
   }
  }
 },
 "nbformat": 4,
 "nbformat_minor": 2
}
