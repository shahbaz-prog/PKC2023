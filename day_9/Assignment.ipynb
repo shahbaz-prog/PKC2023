{
 "cells": [
  {
   "cell_type": "code",
   "execution_count": 1,
   "metadata": {},
   "outputs": [],
   "source": [
    "import pandas as pd\n",
    "import seaborn as sns"
   ]
  },
  {
   "cell_type": "code",
   "execution_count": null,
   "metadata": {},
   "outputs": [],
   "source": [
    "df = sns.load_dataset(\"titanic\")\n",
    "df.head(20)"
   ]
  },
  {
   "attachments": {},
   "cell_type": "markdown",
   "metadata": {},
   "source": [
    "**Subject of this notebook** : What every column \n",
    "                            means in Kashti dataset\\\n",
    "**Name of the Auther** : Qadir Shahbaz\\\n",
    "**Where to contact** : qadir_shahbaz@yahoo.co.uk\\\n",
    "**Date** : 10/01/2023"
   ]
  },
  {
   "attachments": {},
   "cell_type": "markdown",
   "metadata": {},
   "source": [
    " 0   survived     People who lived after the incident   \n",
    " 1   pclass       Passenger class, 1 class, 2 class, 3 class \n",
    " 2   sex          Male, Female  \n",
    " 3   age          What was the age of the passengers\n",
    " 4   sibsp        Sibling or spouse   \n",
    " 5   parch        Number of parents and childerns on board  \n",
    " 6   fare         How much they paid the ticket for travel\n",
    " 7   embarked     Embarked column have 3 values. C for Cherbourg, Q for \n",
    "                  Queenstown and S for southampton\n",
    " 8   class        1st class, 2nd class, 3rd class\n",
    " 9   who          Male, Female, Child \n",
    " 10  adult_male   True if it was adult male otherwise False   \n",
    " 11  deck         Level or floor of ship passanger was located on\n",
    " 12  embark_town  Cherbourg, Queenstown, Southampton  \n",
    " 13  alive        Lived after the incident\n",
    " 14  alone        Travelling alone or not"
   ]
  },
  {
   "attachments": {},
   "cell_type": "markdown",
   "metadata": {},
   "source": [
    "**Subject of this notebook** : How many dataset are in sns.load_dataset\n",
    "**Name of the Auther** : Qadir Shahbaz\\\n",
    "**Where to contact** : qadir_shahbaz@yahoo.co.uk\\\n",
    "**Date** : 10/01/2023\n",
    "\n",
    "There are 13 datasets in the seaborn library. They are:\n",
    "\n",
    "tips\n",
    "titanic\n",
    "iris\n",
    "flights\n",
    "exercise\n",
    "Planets\n",
    "Titanic\n",
    "fmri\n",
    "example_fmri\n",
    "anscombe\n",
    "brain_networks\n",
    "car_crashes\n",
    "diamonds"
   ]
  },
  {
   "attachments": {},
   "cell_type": "markdown",
   "metadata": {},
   "source": [
    "**Subject of this notebook** : what is nan and why is it important in data?\n",
    "**Name of the Auther** : Qadir Shahbaz\\\n",
    "**Where to contact** : qadir_shahbaz@yahoo.co.uk\\\n",
    "**Date** : 10/01/2023\n",
    "\n",
    "\"NaN\" stands for \"Not a Number\" and is used to represent missing or null values in a dataset.\n",
    "It is important to identify and handle NaN values in a dataset because they can affect the accuracy and reliability of statistical analyses and machine learning models that are built using the data. For example, if a model is trained on a dataset that contains missing values, the model may not be able to accurately make predictions for new data that also contains missing values. Therefore, it is important to identify and fill or drop NaN values in a dataset before using it to build a model."
   ]
  }
 ],
 "metadata": {
  "kernelspec": {
   "display_name": "Python 3",
   "language": "python",
   "name": "python3"
  },
  "language_info": {
   "codemirror_mode": {
    "name": "ipython",
    "version": 3
   },
   "file_extension": ".py",
   "mimetype": "text/x-python",
   "name": "python",
   "nbconvert_exporter": "python",
   "pygments_lexer": "ipython3",
   "version": "3.10.6 (tags/v3.10.6:9c7b4bd, Aug  1 2022, 21:53:49) [MSC v.1932 64 bit (AMD64)]"
  },
  "orig_nbformat": 4,
  "vscode": {
   "interpreter": {
    "hash": "f71bcea4a1c913fc9423eaa3e90efbb74abe52176e897df48de2500d80688004"
   }
  }
 },
 "nbformat": 4,
 "nbformat_minor": 2
}
