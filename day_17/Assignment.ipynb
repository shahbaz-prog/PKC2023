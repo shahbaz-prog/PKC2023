{
 "cells": [
  {
   "attachments": {},
   "cell_type": "markdown",
   "metadata": {},
   "source": [
    "# Assignment 01"
   ]
  },
  {
   "attachments": {},
   "cell_type": "markdown",
   "metadata": {},
   "source": [
    "Subject of notebook : Lists of evaluation method of regression and classification\\\n",
    "Name of the auther : Qadir Shahbaz\\\n",
    "Where to contact : qadir_shahbaz@yahoo.co.uk\\\n",
    "date : 18/01/2023 "
   ]
  },
  {
   "attachments": {},
   "cell_type": "markdown",
   "metadata": {},
   "source": [
    "**Regression evaluation methods:**\\\n",
    "\n",
    "Mean Absolute Error (MAE)\\\n",
    "Mean Squared Error (MSE)\\\n",
    "Root Mean Squared Error (RMSE)\\\n",
    "R-Squared\\\n",
    "Adjusted R-Squared\\\n",
    "Mean Absolute Percentage Error (MAPE)\n",
    "\n",
    "**Classification evaluation methods:**\\\n",
    "\n",
    "Accuracy\\\n",
    "Precision\\\n",
    "Recall\\\n",
    "F1 Score\\\n",
    "Area Under the Receiver Operating Characteristic Curve (AUC-ROC)\\\n",
    "Confusion Matrix"
   ]
  },
  {
   "attachments": {},
   "cell_type": "markdown",
   "metadata": {},
   "source": [
    "# Assignment 02"
   ]
  },
  {
   "attachments": {},
   "cell_type": "markdown",
   "metadata": {},
   "source": [
    "Subject of notebook : List of top 5 Classification and Regression metrics\\\n",
    "Name of the auther : Qadir Shahbaz\\\n",
    "Where to contact : qadir_shahbaz@yahoo.co.uk\\\n",
    "date : 18/01/2023 "
   ]
  },
  {
   "attachments": {},
   "cell_type": "markdown",
   "metadata": {},
   "source": [
    "# Classification Metrics\n",
    "\n",
    "Accuracy\\\n",
    "Precision\\\n",
    "Recall\\\n",
    "F1 Score\\\n",
    "Area Under Receiver Operating Characteristic Curve (AUC-ROC)"
   ]
  },
  {
   "attachments": {},
   "cell_type": "markdown",
   "metadata": {},
   "source": [
    "# Regression Metrics\n",
    "\n",
    "Mean Absolute Error (MAE)\\\n",
    "Mean Squared Error (MSE)\\\n",
    "Root Mean Squared Error (RMSE)\\\n",
    "R-Squared (R²)\\\n",
    "Adjusted R-Squared (Adjusted R²)"
   ]
  }
 ],
 "metadata": {
  "kernelspec": {
   "display_name": "Python 3",
   "language": "python",
   "name": "python3"
  },
  "language_info": {
   "name": "python",
   "version": "3.10.6 (tags/v3.10.6:9c7b4bd, Aug  1 2022, 21:53:49) [MSC v.1932 64 bit (AMD64)]"
  },
  "orig_nbformat": 4,
  "vscode": {
   "interpreter": {
    "hash": "f71bcea4a1c913fc9423eaa3e90efbb74abe52176e897df48de2500d80688004"
   }
  }
 },
 "nbformat": 4,
 "nbformat_minor": 2
}
